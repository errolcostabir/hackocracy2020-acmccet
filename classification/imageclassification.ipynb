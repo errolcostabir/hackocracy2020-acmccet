{
 "cells": [
  {
   "cell_type": "code",
   "execution_count": 251,
   "metadata": {},
   "outputs": [],
   "source": [
    "import numpy as np\n",
    "import pandas as pd\n",
    "import tensorflow as tf\n",
    "#assert tf.__version__.startswith('2')\n"
   ]
  },
  {
   "cell_type": "code",
   "execution_count": 316,
   "metadata": {},
   "outputs": [
    {
     "name": "stdout",
     "output_type": "stream",
     "text": [
      "(249, 2)\n"
     ]
    }
   ],
   "source": [
    "data=np.load(\"proData.npy\",allow_pickle=True)\n",
    "\n",
    "print(data.shape)\n",
    "\n",
    "x, y = data[:, -2], data[:, -1]"
   ]
  },
  {
   "cell_type": "code",
   "execution_count": 322,
   "metadata": {},
   "outputs": [],
   "source": [
    "from sklearn.model_selection import train_test_split\n",
    "img_tr,img_te,label_tr,label_te = train_test_split(x,y,test_size = 0.15,random_state = 3)"
   ]
  },
  {
   "cell_type": "code",
   "execution_count": 323,
   "metadata": {},
   "outputs": [],
   "source": [
    "from tensorflow import keras\n",
    "model=keras.Sequential([\n",
    "    keras.layers.Flatten(input_shape=(96,96)),\n",
    "    keras.layers.Dense(128,activation=tf.nn.relu),\n",
    "    keras.layers.Dense(10,activation=tf.nn.softmax)\n",
    "])"
   ]
  },
  {
   "cell_type": "code",
   "execution_count": 324,
   "metadata": {},
   "outputs": [],
   "source": [
    "model.compile(optimizer='adam',loss='sparse_categorical_crossentropy',metrics=['accuracy'])"
   ]
  },
  {
   "cell_type": "code",
   "execution_count": 325,
   "metadata": {},
   "outputs": [
    {
     "name": "stdout",
     "output_type": "stream",
     "text": [
      "<class 'numpy.ndarray'>\n",
      "(211, 96, 96)\n",
      "<class 'numpy.ndarray'>\n"
     ]
    }
   ],
   "source": [
    "img_tr = np.asarray(img_tr.tolist(),np.float32)\n",
    "\n",
    "#img_try=img_tr.reshape(-1)\n",
    "label_tr=np.asarray(label_tr,np.float32)\n",
    "\n",
    "print(type(img_tr))\n",
    "print(img_tr.shape)\n",
    "print(type(label_tr))"
   ]
  },
  {
   "cell_type": "code",
   "execution_count": 326,
   "metadata": {},
   "outputs": [
    {
     "name": "stdout",
     "output_type": "stream",
     "text": [
      "Train on 211 samples\n",
      "Epoch 1/18\n",
      "211/211 [==============================] - 1s 3ms/sample - loss: 1971.8766 - accuracy: 0.2322\n",
      "Epoch 2/18\n",
      "211/211 [==============================] - 0s 402us/sample - loss: 766.6843 - accuracy: 0.2085\n",
      "Epoch 3/18\n",
      "211/211 [==============================] - 0s 392us/sample - loss: 327.9481 - accuracy: 0.3744\n",
      "Epoch 4/18\n",
      "211/211 [==============================] - 0s 468us/sample - loss: 225.7600 - accuracy: 0.3365\n",
      "Epoch 5/18\n",
      "211/211 [==============================] - 0s 586us/sample - loss: 115.4754 - accuracy: 0.4408\n",
      "Epoch 6/18\n",
      "211/211 [==============================] - 0s 510us/sample - loss: 75.9250 - accuracy: 0.4692\n",
      "Epoch 7/18\n",
      "211/211 [==============================] - 0s 529us/sample - loss: 81.1357 - accuracy: 0.4597\n",
      "Epoch 8/18\n",
      "211/211 [==============================] - 0s 492us/sample - loss: 78.8074 - accuracy: 0.4502\n",
      "Epoch 9/18\n",
      "211/211 [==============================] - 0s 487us/sample - loss: 52.3890 - accuracy: 0.5308\n",
      "Epoch 10/18\n",
      "211/211 [==============================] - 0s 496us/sample - loss: 43.4498 - accuracy: 0.5640\n",
      "Epoch 11/18\n",
      "211/211 [==============================] - 0s 435us/sample - loss: 32.8747 - accuracy: 0.5877\n",
      "Epoch 12/18\n",
      "211/211 [==============================] - 0s 392us/sample - loss: 25.2571 - accuracy: 0.6588\n",
      "Epoch 13/18\n",
      "211/211 [==============================] - 0s 402us/sample - loss: 14.3866 - accuracy: 0.7204\n",
      "Epoch 14/18\n",
      "211/211 [==============================] - 0s 435us/sample - loss: 11.4961 - accuracy: 0.7251\n",
      "Epoch 15/18\n",
      "211/211 [==============================] - 0s 430us/sample - loss: 20.6358 - accuracy: 0.6303\n",
      "Epoch 16/18\n",
      "211/211 [==============================] - 0s 421us/sample - loss: 9.6810 - accuracy: 0.7820\n",
      "Epoch 17/18\n",
      "211/211 [==============================] - 0s 430us/sample - loss: 7.0366 - accuracy: 0.8246\n",
      "Epoch 18/18\n",
      "211/211 [==============================] - 0s 454us/sample - loss: 6.4639 - accuracy: 0.8246\n"
     ]
    },
    {
     "data": {
      "text/plain": [
       "<tensorflow.python.keras.callbacks.History at 0x2713c398248>"
      ]
     },
     "execution_count": 326,
     "metadata": {},
     "output_type": "execute_result"
    }
   ],
   "source": [
    "model.fit(img_tr,label_tr,epochs=18)"
   ]
  },
  {
   "cell_type": "code",
   "execution_count": null,
   "metadata": {},
   "outputs": [],
   "source": []
  }
 ],
 "metadata": {
  "kernelspec": {
   "display_name": "Python 3",
   "language": "python",
   "name": "python3"
  },
  "language_info": {
   "codemirror_mode": {
    "name": "ipython",
    "version": 3
   },
   "file_extension": ".py",
   "mimetype": "text/x-python",
   "name": "python",
   "nbconvert_exporter": "python",
   "pygments_lexer": "ipython3",
   "version": "3.7.6"
  }
 },
 "nbformat": 4,
 "nbformat_minor": 4
}
